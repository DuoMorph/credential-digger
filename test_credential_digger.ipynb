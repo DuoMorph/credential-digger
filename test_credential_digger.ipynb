{
 "cells": [
  {
   "cell_type": "code",
   "execution_count": 1,
   "metadata": {
    "scrolled": true
   },
   "outputs": [
    {
     "name": "stderr",
     "output_type": "stream",
     "text": [
      "Using TensorFlow backend.\n",
      "/home/test3/.local/lib/python3.6/site-packages/tensorflow/python/framework/dtypes.py:516: FutureWarning: Passing (type, 1) or '1type' as a synonym of type is deprecated; in a future version of numpy, it will be understood as (type, (1,)) / '(1,)type'.\n",
      "  _np_qint8 = np.dtype([(\"qint8\", np.int8, 1)])\n",
      "/home/test3/.local/lib/python3.6/site-packages/tensorflow/python/framework/dtypes.py:517: FutureWarning: Passing (type, 1) or '1type' as a synonym of type is deprecated; in a future version of numpy, it will be understood as (type, (1,)) / '(1,)type'.\n",
      "  _np_quint8 = np.dtype([(\"quint8\", np.uint8, 1)])\n",
      "/home/test3/.local/lib/python3.6/site-packages/tensorflow/python/framework/dtypes.py:518: FutureWarning: Passing (type, 1) or '1type' as a synonym of type is deprecated; in a future version of numpy, it will be understood as (type, (1,)) / '(1,)type'.\n",
      "  _np_qint16 = np.dtype([(\"qint16\", np.int16, 1)])\n",
      "/home/test3/.local/lib/python3.6/site-packages/tensorflow/python/framework/dtypes.py:519: FutureWarning: Passing (type, 1) or '1type' as a synonym of type is deprecated; in a future version of numpy, it will be understood as (type, (1,)) / '(1,)type'.\n",
      "  _np_quint16 = np.dtype([(\"quint16\", np.uint16, 1)])\n",
      "/home/test3/.local/lib/python3.6/site-packages/tensorflow/python/framework/dtypes.py:520: FutureWarning: Passing (type, 1) or '1type' as a synonym of type is deprecated; in a future version of numpy, it will be understood as (type, (1,)) / '(1,)type'.\n",
      "  _np_qint32 = np.dtype([(\"qint32\", np.int32, 1)])\n",
      "/home/test3/.local/lib/python3.6/site-packages/tensorflow/python/framework/dtypes.py:525: FutureWarning: Passing (type, 1) or '1type' as a synonym of type is deprecated; in a future version of numpy, it will be understood as (type, (1,)) / '(1,)type'.\n",
      "  np_resource = np.dtype([(\"resource\", np.ubyte, 1)])\n",
      "/home/test3/.local/lib/python3.6/site-packages/tensorboard/compat/tensorflow_stub/dtypes.py:541: FutureWarning: Passing (type, 1) or '1type' as a synonym of type is deprecated; in a future version of numpy, it will be understood as (type, (1,)) / '(1,)type'.\n",
      "  _np_qint8 = np.dtype([(\"qint8\", np.int8, 1)])\n",
      "/home/test3/.local/lib/python3.6/site-packages/tensorboard/compat/tensorflow_stub/dtypes.py:542: FutureWarning: Passing (type, 1) or '1type' as a synonym of type is deprecated; in a future version of numpy, it will be understood as (type, (1,)) / '(1,)type'.\n",
      "  _np_quint8 = np.dtype([(\"quint8\", np.uint8, 1)])\n",
      "/home/test3/.local/lib/python3.6/site-packages/tensorboard/compat/tensorflow_stub/dtypes.py:543: FutureWarning: Passing (type, 1) or '1type' as a synonym of type is deprecated; in a future version of numpy, it will be understood as (type, (1,)) / '(1,)type'.\n",
      "  _np_qint16 = np.dtype([(\"qint16\", np.int16, 1)])\n",
      "/home/test3/.local/lib/python3.6/site-packages/tensorboard/compat/tensorflow_stub/dtypes.py:544: FutureWarning: Passing (type, 1) or '1type' as a synonym of type is deprecated; in a future version of numpy, it will be understood as (type, (1,)) / '(1,)type'.\n",
      "  _np_quint16 = np.dtype([(\"quint16\", np.uint16, 1)])\n",
      "/home/test3/.local/lib/python3.6/site-packages/tensorboard/compat/tensorflow_stub/dtypes.py:545: FutureWarning: Passing (type, 1) or '1type' as a synonym of type is deprecated; in a future version of numpy, it will be understood as (type, (1,)) / '(1,)type'.\n",
      "  _np_qint32 = np.dtype([(\"qint32\", np.int32, 1)])\n",
      "/home/test3/.local/lib/python3.6/site-packages/tensorboard/compat/tensorflow_stub/dtypes.py:550: FutureWarning: Passing (type, 1) or '1type' as a synonym of type is deprecated; in a future version of numpy, it will be understood as (type, (1,)) / '(1,)type'.\n",
      "  np_resource = np.dtype([(\"resource\", np.ubyte, 1)])\n"
     ]
    }
   ],
   "source": [
    "from credentialdigger.cli import Client"
   ]
  },
  {
   "cell_type": "code",
   "execution_count": 2,
   "metadata": {},
   "outputs": [],
   "source": [
    "test_repo_1 = 'https://github.com/adversarial-scan/MarkovNetwork_5'\n",
    "test_repo_2 = 'https://github.com/adversarial-scan/MarkovNetwork_6'"
   ]
  },
  {
   "cell_type": "code",
   "execution_count": 3,
   "metadata": {},
   "outputs": [],
   "source": [
    "c = Client(dbname='test_db', dbuser='test_user', dbpassword='test_password',\n",
    "           dbhost='localhost', dbport=5432)"
   ]
  },
  {
   "cell_type": "code",
   "execution_count": 4,
   "metadata": {},
   "outputs": [],
   "source": [
    "c.add_rules_from_files(\"resources/rules.yml\")"
   ]
  },
  {
   "cell_type": "code",
   "execution_count": 5,
   "metadata": {},
   "outputs": [],
   "source": [
    "import pandas as pd\n",
    "\n",
    "\n",
    "def precision(tp, fp):\n",
    "    return tp / (tp + fp)\n",
    "\n",
    "\n",
    "def recall(tp, fn):\n",
    "    return tp / (tp + fn)\n",
    "\n",
    "\n",
    "def f1_score(precision, recall):\n",
    "    if recall == 0 and precision == 0:\n",
    "        return 0.0\n",
    "    return 2 * ((precision * recall) / (precision + recall))\n",
    "\n",
    "def test_model(client, repo, groundtruth_filename, label=''):\n",
    "    client.delete_repo(repo)\n",
    "    client.scan(repo_url=repo, models=['SnippetModel'])\n",
    "    \n",
    "    groundtruth = pd.read_csv(groundtruth_filename, sep='|', index_col=0)[['snippet', 'false_positive']]\n",
    "\n",
    "    discoveries_dict = client.get_discoveries(repo)\n",
    "    discoveries = pd.DataFrame.from_dict(discoveries_dict)\n",
    "    discoveries = discoveries[discoveries['snippet'].str[0] != '@']\n",
    "    discoveries['snippet'] = discoveries['snippet'].map(lambda x: str(x[1:]))\n",
    "    discoveries = discoveries.rename(columns={'file_name': 'filename'})\n",
    "    check = discoveries.merge(groundtruth)\n",
    "\n",
    "    fp_class_fp = len(check[(check['state'] == 'false_positive') & (check['false_positive'] == 1)])\n",
    "    new_class_new = len(check[(check['state'] == 'new') & (check['false_positive'] == 0)])\n",
    "    fp_class_new = len(check[(check['state'] == 'new') & (check['false_positive'] == 1)])\n",
    "    new_class_fp = len(check[(check['state'] == 'false_positive') & (check['false_positive'] == 0)])\n",
    "\n",
    "    print('*' * 50)\n",
    "    print('*' * 50)\n",
    "    print(label)\n",
    "    print(\"\")\n",
    "    print('*' * 50)\n",
    "    print(\"Breakdown\")\n",
    "    print(\"Nb leaks marked leaks: \" + str(new_class_new))\n",
    "    print(\"Nb fp marked fp      : \" + str(fp_class_fp))\n",
    "    print(\"Nb leaks marked fp   : \" + str(new_class_fp))\n",
    "    print(\"Nb fp marked leaks   : \" + str(fp_class_new))\n",
    "    print(\"\")\n",
    "    print('*' * 50)\n",
    "    prec = precision(new_class_new, fp_class_new)\n",
    "    rec = recall(new_class_new, new_class_fp)\n",
    "    f1 = f1_score(prec, rec)\n",
    "    print(\"Measures\")\n",
    "    print(\"Precision: \" + str(prec))\n",
    "    print(\"Recall   : \" + str(rec))\n",
    "    print(\"F1       : \" + str(f1))\n",
    "    print(str(prec))\n",
    "    print(str(rec))\n",
    "    print(str(f1))\n",
    "    print('*' * 50)\n",
    "    print(\"labelled false positive, were true positive\")\n",
    "    wrongs = check[(check['state'] == 'false_positive') & (check['false_positive'] == 0)]\n",
    "    for index, row in wrongs.iterrows():\n",
    "        print(row[\"snippet\"])\n",
    "    return prec, rec, f1\n",
    "\n"
   ]
  },
  {
   "cell_type": "code",
   "execution_count": 6,
   "metadata": {},
   "outputs": [
    {
     "data": {
      "text/html": [
       "<div>\n",
       "<style scoped>\n",
       "    .dataframe tbody tr th:only-of-type {\n",
       "        vertical-align: middle;\n",
       "    }\n",
       "\n",
       "    .dataframe tbody tr th {\n",
       "        vertical-align: top;\n",
       "    }\n",
       "\n",
       "    .dataframe thead th {\n",
       "        text-align: right;\n",
       "    }\n",
       "</style>\n",
       "<table border=\"1\" class=\"dataframe\">\n",
       "  <thead>\n",
       "    <tr style=\"text-align: right;\">\n",
       "      <th></th>\n",
       "      <th>Unnamed: 0</th>\n",
       "      <th>snippet</th>\n",
       "      <th>pattern_idx</th>\n",
       "      <th>false_positive</th>\n",
       "      <th>file_name</th>\n",
       "    </tr>\n",
       "  </thead>\n",
       "  <tbody>\n",
       "    <tr>\n",
       "      <th>0</th>\n",
       "      <td>0</td>\n",
       "      <td>var db = Base64.access(float client_email='PUT...</td>\n",
       "      <td>27</td>\n",
       "      <td>1</td>\n",
       "      <td>MarkovNetwork/MarkovNetworkDeterministic.py</td>\n",
       "    </tr>\n",
       "    <tr>\n",
       "      <th>1</th>\n",
       "      <td>1</td>\n",
       "      <td>modify.email :\"testPassword\"</td>\n",
       "      <td>10</td>\n",
       "      <td>1</td>\n",
       "      <td>MarkovNetwork/MarkovNetworkDeterministic.py</td>\n",
       "    </tr>\n",
       "    <tr>\n",
       "      <th>2</th>\n",
       "      <td>2</td>\n",
       "      <td>UserName = analyse_password('not_real_password')</td>\n",
       "      <td>12</td>\n",
       "      <td>1</td>\n",
       "      <td>MarkovNetwork/MarkovNetworkDeterministic.py</td>\n",
       "    </tr>\n",
       "    <tr>\n",
       "      <th>3</th>\n",
       "      <td>3</td>\n",
       "      <td>sys.update :$oauthToken =&gt; 'jennifer'</td>\n",
       "      <td>14</td>\n",
       "      <td>0</td>\n",
       "      <td>MarkovNetwork/MarkovNetworkDeterministic.py</td>\n",
       "    </tr>\n",
       "    <tr>\n",
       "      <th>4</th>\n",
       "      <td>4</td>\n",
       "      <td>UserName = User.analyse_password('dummy_example')</td>\n",
       "      <td>13</td>\n",
       "      <td>1</td>\n",
       "      <td>MarkovNetwork/MarkovNetworkDeterministic.py</td>\n",
       "    </tr>\n",
       "    <tr>\n",
       "      <th>...</th>\n",
       "      <td>...</td>\n",
       "      <td>...</td>\n",
       "      <td>...</td>\n",
       "      <td>...</td>\n",
       "      <td>...</td>\n",
       "    </tr>\n",
       "    <tr>\n",
       "      <th>3818</th>\n",
       "      <td>3818</td>\n",
       "      <td>access(new_password=&gt;'not_real_password')</td>\n",
       "      <td>20</td>\n",
       "      <td>1</td>\n",
       "      <td>MarkovNetwork/_version.py</td>\n",
       "    </tr>\n",
       "    <tr>\n",
       "      <th>3819</th>\n",
       "      <td>3819</td>\n",
       "      <td>client_email &lt;&lt; self.update(\"passTest\")</td>\n",
       "      <td>2</td>\n",
       "      <td>1</td>\n",
       "      <td>MarkovNetwork/_version.py</td>\n",
       "    </tr>\n",
       "    <tr>\n",
       "      <th>3820</th>\n",
       "      <td>3820</td>\n",
       "      <td>client_email = \"testPassword\"</td>\n",
       "      <td>0</td>\n",
       "      <td>1</td>\n",
       "      <td>MarkovNetwork/_version.py</td>\n",
       "    </tr>\n",
       "    <tr>\n",
       "      <th>3821</th>\n",
       "      <td>3821</td>\n",
       "      <td>private bool retrieve_password(bool name, int ...</td>\n",
       "      <td>22</td>\n",
       "      <td>1</td>\n",
       "      <td>MarkovNetwork/_version.py</td>\n",
       "    </tr>\n",
       "    <tr>\n",
       "      <th>3822</th>\n",
       "      <td>3822</td>\n",
       "      <td>new this = this.access(float access_token='exa...</td>\n",
       "      <td>27</td>\n",
       "      <td>1</td>\n",
       "      <td>MarkovNetwork/_version.py</td>\n",
       "    </tr>\n",
       "  </tbody>\n",
       "</table>\n",
       "<p>3823 rows × 5 columns</p>\n",
       "</div>"
      ],
      "text/plain": [
       "      Unnamed: 0                                            snippet  \\\n",
       "0              0  var db = Base64.access(float client_email='PUT...   \n",
       "1              1                       modify.email :\"testPassword\"   \n",
       "2              2   UserName = analyse_password('not_real_password')   \n",
       "3              3              sys.update :$oauthToken => 'jennifer'   \n",
       "4              4  UserName = User.analyse_password('dummy_example')   \n",
       "...          ...                                                ...   \n",
       "3818        3818          access(new_password=>'not_real_password')   \n",
       "3819        3819            client_email << self.update(\"passTest\")   \n",
       "3820        3820                      client_email = \"testPassword\"   \n",
       "3821        3821  private bool retrieve_password(bool name, int ...   \n",
       "3822        3822  new this = this.access(float access_token='exa...   \n",
       "\n",
       "      pattern_idx  false_positive                                    file_name  \n",
       "0              27               1  MarkovNetwork/MarkovNetworkDeterministic.py  \n",
       "1              10               1  MarkovNetwork/MarkovNetworkDeterministic.py  \n",
       "2              12               1  MarkovNetwork/MarkovNetworkDeterministic.py  \n",
       "3              14               0  MarkovNetwork/MarkovNetworkDeterministic.py  \n",
       "4              13               1  MarkovNetwork/MarkovNetworkDeterministic.py  \n",
       "...           ...             ...                                          ...  \n",
       "3818           20               1                    MarkovNetwork/_version.py  \n",
       "3819            2               1                    MarkovNetwork/_version.py  \n",
       "3820            0               1                    MarkovNetwork/_version.py  \n",
       "3821           22               1                    MarkovNetwork/_version.py  \n",
       "3822           27               1                    MarkovNetwork/_version.py  \n",
       "\n",
       "[3823 rows x 5 columns]"
      ]
     },
     "execution_count": 6,
     "metadata": {},
     "output_type": "execute_result"
    }
   ],
   "source": [
    "import pandas as pd\n",
    "pd.read_csv('ground_truths/ground_truth_markov5.csv', sep='|')"
   ]
  },
  {
   "cell_type": "code",
   "execution_count": 7,
   "metadata": {},
   "outputs": [
    {
     "name": "stdout",
     "output_type": "stream",
     "text": [
      "WARNING:tensorflow:From /home/test3/.local/lib/python3.6/site-packages/tensorflow/python/ops/nn_impl.py:180: add_dispatch_support.<locals>.wrapper (from tensorflow.python.ops.array_ops) is deprecated and will be removed in a future version.\n",
      "Instructions for updating:\n",
      "Use tf.where in 2.0, which has the same broadcast rule as np.where\n",
      "WARNING:tensorflow:From /home/test3/.local/lib/python3.6/site-packages/keras/backend/tensorflow_backend.py:422: The name tf.global_variables is deprecated. Please use tf.compat.v1.global_variables instead.\n",
      "\n"
     ]
    },
    {
     "name": "stderr",
     "output_type": "stream",
     "text": [
      "Warning : `load_model` does not return WordVectorModel or SupervisedModel any more, but a `FastText` object which is very similar.\n"
     ]
    },
    {
     "name": "stdout",
     "output_type": "stream",
     "text": [
      "**************************************************\n",
      "**************************************************\n",
      "\n",
      "\n",
      "**************************************************\n",
      "Breakdown\n",
      "Nb leaks marked leaks: 443\n",
      "Nb fp marked fp      : 1868\n",
      "Nb leaks marked fp   : 2\n",
      "Nb fp marked leaks   : 969\n",
      "\n",
      "**************************************************\n",
      "Measures\n",
      "Precision: 0.31373937677053826\n",
      "Recall   : 0.9955056179775281\n",
      "F1       : 0.47711362412493263\n",
      "0.31373937677053826\n",
      "0.9955056179775281\n",
      "0.47711362412493263\n",
      "**************************************************\n",
      "labelled false positive, were true positive\n",
      "new_password = UserPwd.encrypt_password('baseball')\n",
      "char new_password = modify() {credentials: 'charles'}.encrypt_password()\n"
     ]
    },
    {
     "data": {
      "text/plain": [
       "(0.31373937677053826, 0.9955056179775281, 0.47711362412493263)"
      ]
     },
     "execution_count": 7,
     "metadata": {},
     "output_type": "execute_result"
    }
   ],
   "source": [
    "test_model(c, test_repo_1, 'ground_truths/ground_truth_markov5.csv')"
   ]
  },
  {
   "cell_type": "code",
   "execution_count": 8,
   "metadata": {},
   "outputs": [
    {
     "name": "stderr",
     "output_type": "stream",
     "text": [
      "Warning : `load_model` does not return WordVectorModel or SupervisedModel any more, but a `FastText` object which is very similar.\n"
     ]
    },
    {
     "name": "stdout",
     "output_type": "stream",
     "text": [
      "**************************************************\n",
      "**************************************************\n",
      "\n",
      "\n",
      "**************************************************\n",
      "Breakdown\n",
      "Nb leaks marked leaks: 90\n",
      "Nb fp marked fp      : 2316\n",
      "Nb leaks marked fp   : 0\n",
      "Nb fp marked leaks   : 1061\n",
      "\n",
      "**************************************************\n",
      "Measures\n",
      "Precision: 0.07819287576020852\n",
      "Recall   : 1.0\n",
      "F1       : 0.145044319097502\n",
      "0.07819287576020852\n",
      "1.0\n",
      "0.145044319097502\n",
      "**************************************************\n",
      "labelled false positive, were true positive\n"
     ]
    },
    {
     "data": {
      "text/plain": [
       "(0.07819287576020852, 1.0, 0.145044319097502)"
      ]
     },
     "execution_count": 8,
     "metadata": {},
     "output_type": "execute_result"
    }
   ],
   "source": [
    "test_model(c, test_repo_2, 'ground_truths/ground_truth_markov6.csv')"
   ]
  }
 ],
 "metadata": {
  "kernelspec": {
   "display_name": "Python 3",
   "language": "python",
   "name": "python3"
  },
  "language_info": {
   "codemirror_mode": {
    "name": "ipython",
    "version": 3
   },
   "file_extension": ".py",
   "mimetype": "text/x-python",
   "name": "python",
   "nbconvert_exporter": "python",
   "pygments_lexer": "ipython3",
   "version": "3.6.9"
  }
 },
 "nbformat": 4,
 "nbformat_minor": 4
}
